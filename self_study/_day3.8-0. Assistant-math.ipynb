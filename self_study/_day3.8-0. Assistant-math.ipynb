{
 "cells": [
  {
   "cell_type": "code",
   "execution_count": 1,
   "metadata": {},
   "outputs": [],
   "source": [
    "import os\n",
    "from openai import OpenAI\n",
    "client = OpenAI()\n",
    "\n",
    "client.api_key = os.getenv(\"OPENAI_API_KEY\")"
   ]
  },
  {
   "cell_type": "code",
   "execution_count": 2,
   "metadata": {},
   "outputs": [
    {
     "data": {
      "text/plain": [
       "Assistant(id='asst_QKBO6sa8HCqtqnTz6BqebjeM', created_at=1709866222, description=None, file_ids=[], instructions='당신은 친절한 수학선생님입니다. 사용자가 질문하는 수학문제에 대답하기 위해 code를 작성하고 실행하세요.', metadata={}, model='gpt-3.5-turbo', name='수학 선생님', object='assistant', tools=[ToolCodeInterpreter(type='code_interpreter')])"
      ]
     },
     "execution_count": 2,
     "metadata": {},
     "output_type": "execute_result"
    }
   ],
   "source": [
    "assistant = client.beta.assistants.create(\n",
    "    name=\"수학 선생님\",\n",
    "    instructions=\"당신은 친절한 수학선생님입니다. 사용자가 질문하는 수학문제에 대답하기 위해 code를 작성하고 실행하세요.\",\n",
    "    tools=[{\"type\": \"code_interpreter\"}],\n",
    "    model=\"gpt-3.5-turbo\"\n",
    ")\n",
    "assistant"
   ]
  },
  {
   "cell_type": "code",
   "execution_count": 3,
   "metadata": {},
   "outputs": [
    {
     "data": {
      "text/plain": [
       "Thread(id='thread_vhMsRxfsHs1hWczY9RZQXkO5', created_at=1709866223, metadata={}, object='thread')"
      ]
     },
     "execution_count": 3,
     "metadata": {},
     "output_type": "execute_result"
    }
   ],
   "source": [
    "thread = client.beta.threads.create()\n",
    "thread"
   ]
  },
  {
   "cell_type": "code",
   "execution_count": 4,
   "metadata": {},
   "outputs": [],
   "source": [
    "message = client.beta.threads.messages.create(\n",
    "    thread_id=thread.id,\n",
    "    role=\"user\",\n",
    "    content=\"`3x + 11 = 14`라는 방정식을 풀려고 하는데 도와줄 수 있어?\"\n",
    ")"
   ]
  },
  {
   "cell_type": "code",
   "execution_count": 5,
   "metadata": {},
   "outputs": [
    {
     "name": "stdout",
     "output_type": "stream",
     "text": [
      "[ThreadMessage(id='msg_3l4bqko7CYGyTQyYnktIghlH', assistant_id=None, content=[MessageContentText(text=Text(annotations=[], value='`3x + 11 = 14`라는 방정식을 풀려고 하는데 도와줄 수 있어?'), type='text')], created_at=1709866223, file_ids=[], metadata={}, object='thread.message', role='user', run_id=None, thread_id='thread_vhMsRxfsHs1hWczY9RZQXkO5')]\n"
     ]
    }
   ],
   "source": [
    "thread_messages = client.beta.threads.messages.list(thread.id)\n",
    "print(thread_messages.data)"
   ]
  },
  {
   "cell_type": "code",
   "execution_count": 6,
   "metadata": {},
   "outputs": [],
   "source": [
    "run = client.beta.threads.runs.create(\n",
    "  thread_id=thread.id,\n",
    "  assistant_id=assistant.id,\n",
    "  instructions=\"수학문제에 대해 설명하고 답을 같이 말해줘.\"\n",
    ")"
   ]
  },
  {
   "cell_type": "code",
   "execution_count": 7,
   "metadata": {},
   "outputs": [],
   "source": [
    "import time\n",
    "\n",
    "while run.status != \"completed\"  :\n",
    "    run = client.beta.threads.runs.retrieve(\n",
    "        thread_id=thread.id,\n",
    "        run_id=run.id\n",
    "    )\n",
    "    time.sleep(0.1)"
   ]
  },
  {
   "cell_type": "code",
   "execution_count": 8,
   "metadata": {},
   "outputs": [],
   "source": [
    "messages = client.beta.threads.messages.list(\n",
    "  thread_id=thread.id\n",
    ")"
   ]
  },
  {
   "cell_type": "code",
   "execution_count": 9,
   "metadata": {},
   "outputs": [
    {
     "name": "stdout",
     "output_type": "stream",
     "text": [
      "[ThreadMessage(id='msg_ikaJnjLyHdoCF0B7zxmAnD2R', assistant_id='asst_QKBO6sa8HCqtqnTz6BqebjeM', content=[MessageContentText(text=Text(annotations=[], value='주어진 방정식을 해결한 결과, x의 값은 1입니다. 따라서 주어진 방정식의 해는 x = 1입니다.'), type='text')], created_at=1709866229, file_ids=[], metadata={}, object='thread.message', role='assistant', run_id='run_RnrzVqtTduGWnAawf0boHkQA', thread_id='thread_vhMsRxfsHs1hWczY9RZQXkO5'), ThreadMessage(id='msg_KZKuTd9I3pfY1Z8ib3fHZC3D', assistant_id='asst_QKBO6sa8HCqtqnTz6BqebjeM', content=[MessageContentText(text=Text(annotations=[], value='물론이죠! 이 방정식을 풀기 위해 단계별로 진행하겠습니다.\\n\\n주어진 방정식은 다음과 같습니다:\\n\\\\[ 3x + 11 = 14 \\\\]\\n\\n1. 먼저 상수항을 한 쪽으로 옮겨주겠습니다. \\n   \\\\[ 3x = 14 - 11 \\\\]\\n\\n2. 그 다음으로 x에 대해 isolate 해줄 것입니다.\\n   \\\\[ x = \\\\frac{14 - 11}{3} \\\\]\\n\\n이제 위 단계를 계산하여 x의 값을 찾아보겠습니다.'), type='text')], created_at=1709866224, file_ids=[], metadata={}, object='thread.message', role='assistant', run_id='run_RnrzVqtTduGWnAawf0boHkQA', thread_id='thread_vhMsRxfsHs1hWczY9RZQXkO5'), ThreadMessage(id='msg_3l4bqko7CYGyTQyYnktIghlH', assistant_id=None, content=[MessageContentText(text=Text(annotations=[], value='`3x + 11 = 14`라는 방정식을 풀려고 하는데 도와줄 수 있어?'), type='text')], created_at=1709866223, file_ids=[], metadata={}, object='thread.message', role='user', run_id=None, thread_id='thread_vhMsRxfsHs1hWczY9RZQXkO5')]\n"
     ]
    }
   ],
   "source": [
    "thread_messages = client.beta.threads.messages.list(thread.id)\n",
    "print(thread_messages.data)"
   ]
  },
  {
   "cell_type": "markdown",
   "metadata": {},
   "source": []
  }
 ],
 "metadata": {
  "kernelspec": {
   "display_name": "Python 3",
   "language": "python",
   "name": "python3"
  },
  "language_info": {
   "codemirror_mode": {
    "name": "ipython",
    "version": 3
   },
   "file_extension": ".py",
   "mimetype": "text/x-python",
   "name": "python",
   "nbconvert_exporter": "python",
   "pygments_lexer": "ipython3",
   "version": "3.10.12"
  }
 },
 "nbformat": 4,
 "nbformat_minor": 2
}
