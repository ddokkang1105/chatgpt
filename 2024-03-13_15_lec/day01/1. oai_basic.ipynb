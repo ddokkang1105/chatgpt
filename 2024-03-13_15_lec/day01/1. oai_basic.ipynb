{
 "cells": [
  {
   "cell_type": "code",
   "execution_count": 2,
   "id": "fb0a2acc-ddb1-40a3-9bb1-8c1043765ca8",
   "metadata": {},
   "outputs": [
    {
     "name": "stdout",
     "output_type": "stream",
     "text": [
      "\n",
      "\n",
      "こんにちは？今日の天気は本当にいいですね！\n"
     ]
    }
   ],
   "source": [
    "# Completion mode, 지시와 명령을 하나의 prompt로 전달\n",
    "import os\n",
    "import openai\n",
    "\n",
    "openai.api_key = os.getenv(\"OPENAI_API_KEY\")\n",
    "# 텍스트 생성 요청을 보냅니다.\n",
    "response = openai.completions.create(\n",
    "    model=\"gpt-3.5-turbo-instruct\", \n",
    "    prompt = \"다음을 일본어로 번역하세요: 안녕하세요? 오늘 날씨가 참 좋군요!\",\n",
    "    max_tokens=256,  # 생성된 텍스트의 최대 길이를 설정합니다.\n",
    ")\n",
    "\n",
    "print(response.choices[0].text)"
   ]
  },
  {
   "cell_type": "code",
   "execution_count": 4,
   "id": "05033272-a0dd-4806-8b19-762587718e55",
   "metadata": {},
   "outputs": [
    {
     "name": "stdout",
     "output_type": "stream",
     "text": [
      "?\n",
      "\n",
      "1. 충분한 식사: 근육을 키우기 위해서는 근육에 필요한 영양소를 충분히 섭취해야 합니다. 단백질, 탄수화물, 지방 등의 영양소가 균형있게 섭취되어야 합니다.\n",
      "\n",
      "2. 규칙적인 운동: 근육을 키우기 위해서는 규칙적인 운동이 필수적입니다. 매일 조금씩이라도 꾸준한 운동을 해야 근육이 자라는데 도움이 됩니다.\n",
      "\n",
      "3. 높은 무게와 적은 반복: 근육을 키우려면 무게를 부담스럽게 느낄정도로 높게 설정하고, 적은 반복으로 운동하는 것이 효과적\n"
     ]
    }
   ],
   "source": [
    "# Completion mode, 문장을 이어서 완성하게 함\n",
    "import os\n",
    "import openai\n",
    "\n",
    "openai.api_key = os.getenv(\"OPENAI_API_KEY\")\n",
    "# 텍스트 생성 요청을 보냅니다.\n",
    "response = openai.completions.create(\n",
    "    model=\"gpt-3.5-turbo-instruct\", \n",
    "    prompt=\"근육이 커지려면\",\n",
    "    max_tokens=256,  # 생성된 텍스트의 최대 길이를 설정합니다.\n",
    ")\n",
    "\n",
    "# 생성된 텍스트를 출력합니다.\n",
    "print(response.choices[0].text)"
   ]
  },
  {
   "cell_type": "code",
   "execution_count": 5,
   "id": "e43ac887",
   "metadata": {},
   "outputs": [
    {
     "name": "stdout",
     "output_type": "stream",
     "text": [
      "Completion(id='cmpl-91S9bNxui35nq7onf2LDG3ahQXXPF', choices=[CompletionChoice(finish_reason='length', index=0, logprobs=None, text='?\\n\\n1. 충분한 식사: 근육을 키우기 위해서는 근육에 필요한 영양소를 충분히 섭취해야 합니다. 단백질, 탄수화물, 지방 등의 영양소가 균형있게 섭취되어야 합니다.\\n\\n2. 규칙적인 운동: 근육을 키우기 위해서는 규칙적인 운동이 필수적입니다. 매일 조금씩이라도 꾸준한 운동을 해야 근육이 자라는데 도움이 됩니다.\\n\\n3. 높은 무게와 적은 반복: 근육을 키우려면 무게를 부담스럽게 느낄정도로 높게 설정하고, 적은 반복으로 운동하는 것이 효과적')], created=1710133579, model='gpt-3.5-turbo-instruct', object='text_completion', system_fingerprint=None, usage=CompletionUsage(completion_tokens=256, prompt_tokens=11, total_tokens=267))\n"
     ]
    }
   ],
   "source": [
    "print(response)"
   ]
  },
  {
   "cell_type": "code",
   "execution_count": 6,
   "id": "5b74d5c7-caab-4632-ac69-2f420969f13f",
   "metadata": {},
   "outputs": [
    {
     "name": "stdout",
     "output_type": "stream",
     "text": [
      "こんにちは？今日の天気は本当に良いですね！\n"
     ]
    }
   ],
   "source": [
    "# 표준적인 Chat completion mode\n",
    "\n",
    "import openai\n",
    "\n",
    "res = openai.chat.completions.create(\n",
    "  model=\"gpt-3.5-turbo\", \n",
    "  messages=[{\"role\": \"user\", \"content\": \"다음을 일본어로 번역하세요: 안녕하세요? 오늘 날씨가 참 좋군요!\"}]\n",
    ")\n",
    "print(res.choices[0].message.content)"
   ]
  },
  {
   "cell_type": "code",
   "execution_count": 8,
   "id": "b02d0eef-20b7-449a-b893-ae51f4da32ff",
   "metadata": {},
   "outputs": [
    {
     "name": "stdout",
     "output_type": "stream",
     "text": [
      "ChatCompletion(id='chatcmpl-91SCscxlczTxQkAN66iT6zOn2rv2e', choices=[Choice(finish_reason='stop', index=0, logprobs=None, message=ChatCompletionMessage(content='こんにちは？今日の天気は本当に良いですね！', role='assistant', function_call=None, tool_calls=None))], created=1710133782, model='gpt-3.5-turbo-0125', object='chat.completion', system_fingerprint='fp_4f0b692a78', usage=CompletionUsage(completion_tokens=18, prompt_tokens=42, total_tokens=60))\n"
     ]
    }
   ],
   "source": [
    "print(res)"
   ]
  },
  {
   "cell_type": "code",
   "execution_count": null,
   "id": "9db8d0ac-1324-4565-9cda-172f337b34bf",
   "metadata": {},
   "outputs": [],
   "source": []
  }
 ],
 "metadata": {
  "kernelspec": {
   "display_name": "Python 3 (ipykernel)",
   "language": "python",
   "name": "python3"
  },
  "language_info": {
   "codemirror_mode": {
    "name": "ipython",
    "version": 3
   },
   "file_extension": ".py",
   "mimetype": "text/x-python",
   "name": "python",
   "nbconvert_exporter": "python",
   "pygments_lexer": "ipython3",
   "version": "3.10.12"
  }
 },
 "nbformat": 4,
 "nbformat_minor": 5
}
