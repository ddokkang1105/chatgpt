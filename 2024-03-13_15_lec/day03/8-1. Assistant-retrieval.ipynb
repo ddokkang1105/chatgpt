{
 "cells": [
  {
   "cell_type": "code",
   "execution_count": 11,
   "metadata": {},
   "outputs": [],
   "source": [
    "import os\n",
    "from openai import OpenAI\n",
    "client = OpenAI()\n",
    "\n",
    "client.api_key = os.getenv(\"OPENAI_API_KEY\")"
   ]
  },
  {
   "cell_type": "code",
   "execution_count": 12,
   "metadata": {},
   "outputs": [
    {
     "data": {
      "text/plain": [
       "Assistant(id='asst_BYVPaGEUCC4MpQAVKUlaEb38', created_at=1710317255, description=None, file_ids=[], instructions='당신은 친절한 국어선생님입니다. 사용자가 질문하는 국어문제에 대답하기 위해 retrieval을 실행하세요.', metadata={}, model='gpt-3.5-turbo', name='국어 선생님', object='assistant', tools=[ToolRetrieval(type='retrieval')])"
      ]
     },
     "execution_count": 12,
     "metadata": {},
     "output_type": "execute_result"
    }
   ],
   "source": [
    "assistant = client.beta.assistants.create(\n",
    "    name=\"국어 선생님\",\n",
    "    instructions=\"당신은 친절한 국어선생님입니다. 사용자가 질문하는 국어문제에 대답하기 위해 retrieval을 실행하세요.\",\n",
    "    tools=[{\"type\": \"retrieval\"}],\n",
    "    model=\"gpt-3.5-turbo\"\n",
    ")\n",
    "assistant"
   ]
  },
  {
   "cell_type": "code",
   "execution_count": 13,
   "metadata": {},
   "outputs": [],
   "source": [
    "file = client.files.create(\n",
    "  file=open(\"소나기.pdf\", \"rb\"),\n",
    "  purpose='assistants'\n",
    ")"
   ]
  },
  {
   "cell_type": "code",
   "execution_count": 14,
   "metadata": {},
   "outputs": [
    {
     "data": {
      "text/plain": [
       "Thread(id='thread_KxIiDdDol0EnbjVSRYGbuJAj', created_at=1710317263, metadata={}, object='thread')"
      ]
     },
     "execution_count": 14,
     "metadata": {},
     "output_type": "execute_result"
    }
   ],
   "source": [
    "thread = client.beta.threads.create()\n",
    "thread"
   ]
  },
  {
   "cell_type": "code",
   "execution_count": 15,
   "metadata": {},
   "outputs": [],
   "source": [
    "message = client.beta.threads.messages.create(\n",
    "    thread_id=thread.id,\n",
    "    role=\"user\",\n",
    "    content=\"소년과 소녀는 어디에서 처음 만났나?\",\n",
    "    file_ids=[file.id]\n",
    ")"
   ]
  },
  {
   "cell_type": "code",
   "execution_count": 16,
   "metadata": {},
   "outputs": [
    {
     "name": "stdout",
     "output_type": "stream",
     "text": [
      "[ThreadMessage(id='msg_tXZpQBWbXwdnbBeOSL0ug9Kn', assistant_id=None, content=[MessageContentText(text=Text(annotations=[], value='소년과 소녀는 어디에서 처음 만났나?'), type='text')], created_at=1710317265, file_ids=['file-e513Hjiq3vKxUUbaNRFei9NS'], metadata={}, object='thread.message', role='user', run_id=None, thread_id='thread_KxIiDdDol0EnbjVSRYGbuJAj')]\n"
     ]
    }
   ],
   "source": [
    "thread_messages = client.beta.threads.messages.list(thread.id)\n",
    "print(thread_messages.data)"
   ]
  },
  {
   "cell_type": "code",
   "execution_count": 17,
   "metadata": {},
   "outputs": [],
   "source": [
    "run = client.beta.threads.runs.create(\n",
    "  thread_id=thread.id,\n",
    "  assistant_id=assistant.id,\n",
    "  instructions=\"주어진 질문에 대해 답을 줘. 답을 모르겠으면 모르겠다고 답해야 하고 답을 지어내면 안돼.\"\n",
    ")"
   ]
  },
  {
   "cell_type": "code",
   "execution_count": 18,
   "metadata": {},
   "outputs": [],
   "source": [
    "import time\n",
    "\n",
    "while run.status != \"completed\"  :\n",
    "    run = client.beta.threads.runs.retrieve(\n",
    "        thread_id=thread.id,\n",
    "        run_id=run.id\n",
    "    )\n",
    "    time.sleep(0.1)"
   ]
  },
  {
   "cell_type": "code",
   "execution_count": 19,
   "metadata": {},
   "outputs": [],
   "source": [
    "messages = client.beta.threads.messages.list(\n",
    "  thread_id=thread.id\n",
    ")"
   ]
  },
  {
   "cell_type": "code",
   "execution_count": 20,
   "metadata": {},
   "outputs": [
    {
     "name": "stdout",
     "output_type": "stream",
     "text": [
      "[ThreadMessage(id='msg_Y92vwhEM8tbjuUnIlmX5BEKe', assistant_id='asst_BYVPaGEUCC4MpQAVKUlaEb38', content=[MessageContentText(text=Text(annotations=[TextAnnotationFileCitation(end_index=122, file_citation=TextAnnotationFileCitationFileCitation(file_id='file-e513Hjiq3vKxUUbaNRFei9NS', quote=''), start_index=112, text='【6†source】', type='file_citation')], value='소년과 소녀는 이야기 속에서 처음으로 개울가에서 만났습니다. 소년은 개울가에서 소녀를 보고 곧 윤 초시네의 증손녀(曾孫女)딸이라는 걸 알아차렸고, 소녀는 개울가에서 손을 잠그고 물장난을 하고 있었습니다【6†source】.'), type='text')], created_at=1710317274, file_ids=[], metadata={}, object='thread.message', role='assistant', run_id='run_biUq5BmhtQe8QXNNKvC4DZGp', thread_id='thread_KxIiDdDol0EnbjVSRYGbuJAj'), ThreadMessage(id='msg_vtW9oo0otf1mDaK24V0ECJSR', assistant_id='asst_BYVPaGEUCC4MpQAVKUlaEb38', content=[MessageContentText(text=Text(annotations=[], value='제가 업로드된 파일을 확인할게요. 잠시 기다려 주세요.'), type='text')], created_at=1710317272, file_ids=[], metadata={}, object='thread.message', role='assistant', run_id='run_biUq5BmhtQe8QXNNKvC4DZGp', thread_id='thread_KxIiDdDol0EnbjVSRYGbuJAj'), ThreadMessage(id='msg_tXZpQBWbXwdnbBeOSL0ug9Kn', assistant_id=None, content=[MessageContentText(text=Text(annotations=[], value='소년과 소녀는 어디에서 처음 만났나?'), type='text')], created_at=1710317265, file_ids=['file-e513Hjiq3vKxUUbaNRFei9NS'], metadata={}, object='thread.message', role='user', run_id=None, thread_id='thread_KxIiDdDol0EnbjVSRYGbuJAj')]\n"
     ]
    }
   ],
   "source": [
    "thread_messages = client.beta.threads.messages.list(thread.id)\n",
    "print(thread_messages.data)"
   ]
  },
  {
   "cell_type": "code",
   "execution_count": 22,
   "metadata": {},
   "outputs": [
    {
     "name": "stdout",
     "output_type": "stream",
     "text": [
      "assistant\n",
      "소년과 소녀는 이야기 속에서 처음으로 개울가에서 만났습니다. 소년은 개울가에서 소녀를 보고 곧 윤 초시네의 증손녀(曾孫女)딸이라는 걸 알아차렸고, 소녀는 개울가에서 손을 잠그고 물장난을 하고 있었습니다【6†source】.\n"
     ]
    }
   ],
   "source": [
    "print(thread_messages.data[0].role)\n",
    "print(thread_messages.data[0].content[0].text.value)"
   ]
  },
  {
   "cell_type": "markdown",
   "metadata": {},
   "source": []
  }
 ],
 "metadata": {
  "kernelspec": {
   "display_name": "Python 3",
   "language": "python",
   "name": "python3"
  },
  "language_info": {
   "codemirror_mode": {
    "name": "ipython",
    "version": 3
   },
   "file_extension": ".py",
   "mimetype": "text/x-python",
   "name": "python",
   "nbconvert_exporter": "python",
   "pygments_lexer": "ipython3",
   "version": "3.10.12"
  }
 },
 "nbformat": 4,
 "nbformat_minor": 2
}
